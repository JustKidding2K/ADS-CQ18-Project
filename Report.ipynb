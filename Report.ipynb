{
  "nbformat": 4,
  "nbformat_minor": 0,
  "metadata": {
    "colab": {
      "name": "Report.ipynb",
      "provenance": [],
      "toc_visible": true,
      "authorship_tag": "ABX9TyPKlRxcwcRsoY3LdIK8lFHe",
      "include_colab_link": true
    },
    "kernelspec": {
      "name": "python3",
      "display_name": "Python 3"
    },
    "language_info": {
      "name": "python"
    }
  },
  "cells": [
    {
      "cell_type": "markdown",
      "metadata": {
        "id": "view-in-github",
        "colab_type": "text"
      },
      "source": [
        "<a href=\"https://colab.research.google.com/github/JustKidding2K/ADS-CQ18-Project/blob/main/Report.ipynb\" target=\"_parent\"><img src=\"https://colab.research.google.com/assets/colab-badge.svg\" alt=\"Open In Colab\"/></a>"
      ]
    },
    {
      "cell_type": "markdown",
      "source": [
        "# ĐỒ ÁN MÔN HỌC \"KHOA HỌC DỮ LIỆU ỨNG DỤNG\"\n",
        "\n",
        "Giáo viên hướng dẫn: Trần Trung Kiên\n",
        "\n",
        "Nhóm 6:\n",
        "\n",
        "1. 18120212 - Huỳnh Long Nam"
      ],
      "metadata": {
        "id": "d-etZBiZhSua"
      }
    },
    {
      "cell_type": "markdown",
      "source": [
        "# 1. MÔ TẢ BÀI TOÁN"
      ],
      "metadata": {
        "id": "8D3AYHKjhp0D"
      }
    },
    {
      "cell_type": "markdown",
      "source": [
        "## 1.1 GIỚI THIỆU BÀI TOÁN"
      ],
      "metadata": {
        "id": "NVFLYgGIiiGx"
      }
    },
    {
      "cell_type": "markdown",
      "source": [
        "**Cuộc thi:** [Corporación Favorita Grocery Sales Forecasting](https://www.kaggle.com/competitions/favorita-grocery-sales-forecasting)\n",
        "\n",
        "**Mô tả bài toán**:\n",
        "\n",
        "- **Corporación Favorita** là một nhà bán lẻ lớn từ Ecuado, với hàng hàng trăm cửa hàng và hơn 200,000 mặt hàng được kinh doanh. Hệ thống phải đối mặt với vấn đề cung ứng số lượng hàng hóa cho các cửa hàng với đặc điểm khác nhau,... Nếu nhập quá nhiều, hàng hóa sẽ bị ùn ứ, hư hỏng. Nếu nhập quá ít, cửa hàng sẽ mất khách, giảm doanh thu, lợi nhuận.\n",
        "- Do đó, Corporación Favorita tổ chức cuộc thi ***Corporación Favorita Grocery Sales Forecasting*** nhằm tìm ra mô hình dự doán chính xác nhất về doanh số của các mặt hàng, giải quyết bài toán cung ứng trên.\n",
        "- Các đội thi sẽ phải dự đoán doanh số bán của hàng nghìn sản phẩm tại các cửa hàng của Favorita dựa trên các thông tin về thời gian, cửa hàng, sản phẩm, sản phẩm có được quảng bá hay không và số lượng sản phẩm đã bán được(tập train)\n",
        "\n",
        "**Số đội tham dự:** 1,671\n",
        "\n",
        "**Giải thưởng:** $tổng 30,000 trong đó:\n",
        "\n",
        "- $15, 000 cho đội về 1\n",
        "\n",
        "- $10, 000 cho đội về 2\n",
        "\n",
        "- $ 5, 000 cho đội về 3\n",
        "\n",
        "\n",
        "\n",
        "\n"
      ],
      "metadata": {
        "id": "XDsDT2igjri6"
      }
    },
    {
      "cell_type": "markdown",
      "source": [
        "## 1.2 SƠ LƯỢC VỀ DỮ LIỆU"
      ],
      "metadata": {
        "id": "yzn9sWxLi0eV"
      }
    },
    {
      "cell_type": "markdown",
      "source": [
        "Dữ liều gồm 2 file chính: \n",
        "\n",
        "<code>train.csv</code> \n",
        "- 125,497,041 dòng (~4.99GB)\n",
        "- Các thông tin bán hàng từ 01-01-2013 đến 15-08-2017\n",
        "\n",
        "<code>test.csv</code>\n",
        "- 3,370,464 dòng (~0.12 GB)\n",
        "- Các thông tin bán hàng từ 16-08-2017 đến 31-08-2017 (bỏ cột unit_sales)\n",
        "\n",
        "Mỗi dòng bao gồm thông tin về một sản phẩm được bán ra: \n",
        "\n",
        "Input:\n",
        "- <code>date</code>: ngày bán \n",
        "- <code>store_nbr</code>: mã cửa hàng\n",
        "- <code>item_nbr</code>: mã sản phẩm\n",
        "- <code>onpromotion</code>: có đang được quảng bá\n",
        "\n",
        "Output:\n",
        "- <code>unit_sales</code>: số đơn vị bán được (số lượng, khối lượng, thể tích,...)\n",
        "\n",
        "và các file dữ liệu khác bao gồm:\n",
        "\n",
        "<code>stores.csv</code> : thông tin về cửa hàng (store_nbr, city, state, type, cluster)\n",
        "\n",
        "<code>items.csv</code> :  thông tin về sản phẩm (item_nbr, family, class, perishable)\n",
        "\n",
        "<code>transactions.csv</code> : doanh số bán từng ngày của từng cửa hàng (date, store_nbr, transactions)\n",
        "\n",
        "<code>oil.csv</code> : giá dầu hàng ngày (date, dcoilwtico)\n",
        "\n",
        "<code>holidays_events.csv</code> : các ngày lễ tại Ecuador (date, type,locale,locale_name, description, transferred)"
      ],
      "metadata": {
        "id": "HsdhKOcyrQlX"
      }
    },
    {
      "cell_type": "markdown",
      "source": [
        "## 1.3 GIỚI THIỆU SOLUTION"
      ],
      "metadata": {
        "id": "Ue3M49BwipLu"
      }
    },
    {
      "cell_type": "markdown",
      "source": [
        "- Solution được nhóm lựa chọn đạt được [top 1](https://www.kaggle.com/code/shixw125/1st-place-lgb-model-public-0-506-private-0-511) trên [Private Leaderboard](https://www.kaggle.com/competitions/favorita-grocery-sales-forecasting/leaderboard) với scorce <code>0.50918</code> theo độ lỗi <code>Normalized Weighted Root Mean Squared Logarithmic Error</code> (càng thấp càng tốt):\n",
        "\n",
        "$$ NWRMSLE = \\sqrt{ \\frac{\\sum{i=1}^n wi \\left( \\ln(\\hat{y}i + 1) - \\ln(yi +1)  \\right)^2  }{\\sum{i=1}^n wi}} $$\n",
        "\n",
        "- Solution được đề cử bởi ba tác giả [pengyan](https://www.kaggle.com/pengyan), [shixw125](https://www.kaggle.com/shixw125), [infzero](https://www.kaggle.com/infzero) và được tác giả [shixw125](https://www.kaggle.com/shixw125) upload sau cuộc thi\n",
        "\n",
        "- Solution chỉ sử dụng 59,038,132 (~ một nửa tập train)"
      ],
      "metadata": {
        "id": "Ka4jLwFdzdL9"
      }
    },
    {
      "cell_type": "markdown",
      "source": [
        "# 2. GIẢI QUYẾT BÀI TOÁN"
      ],
      "metadata": {
        "id": "ozIWgzfbiHTZ"
      }
    },
    {
      "cell_type": "markdown",
      "source": [
        ""
      ],
      "metadata": {
        "id": "gq_gVTD-1nzp"
      }
    },
    {
      "cell_type": "markdown",
      "source": [
        ""
      ],
      "metadata": {
        "id": "zULZamjW1niu"
      }
    },
    {
      "cell_type": "markdown",
      "source": [
        ""
      ],
      "metadata": {
        "id": "nyZ9z1ZI1ndL"
      }
    },
    {
      "cell_type": "markdown",
      "source": [
        ""
      ],
      "metadata": {
        "id": "DVIYrKGy1nRe"
      }
    },
    {
      "cell_type": "markdown",
      "source": [
        ""
      ],
      "metadata": {
        "id": "UD-fl0xh1nFu"
      }
    },
    {
      "cell_type": "markdown",
      "source": [
        "# 3. NHÌN LẠI QUÁ TRÌNH LÀM ĐỒ ÁN"
      ],
      "metadata": {
        "id": "WReaJRIHiOJM"
      }
    },
    {
      "cell_type": "markdown",
      "source": [
        "# 4. TÀI LIỆU THAM KHẢO"
      ],
      "metadata": {
        "id": "SO7_TwWBiOFx"
      }
    },
    {
      "cell_type": "markdown",
      "source": [
        "EDA : [Shopping for Insights - Favorita EDA](https://www.kaggle.com/code/headsortails/shopping-for-insights-favorita-eda)\n",
        "\n",
        "Solution: [1st Place LGB Model(public:0.506, private:0.511)](https://www.kaggle.com/code/shixw125/1st-place-lgb-model-public-0-506-private-0-511/script)"
      ],
      "metadata": {
        "id": "894ZrLQjurD9"
      }
    },
    {
      "cell_type": "code",
      "source": [
        ""
      ],
      "metadata": {
        "id": "9AsUoUDZiGuu"
      },
      "execution_count": null,
      "outputs": []
    }
  ]
}