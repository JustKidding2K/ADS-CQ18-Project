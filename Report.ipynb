{
  "nbformat": 4,
  "nbformat_minor": 0,
  "metadata": {
    "colab": {
      "name": "ADS-CQ18-Project Nhóm 6.ipynb",
      "provenance": [],
      "collapsed_sections": []
    },
    "kernelspec": {
      "name": "python3",
      "display_name": "Python 3"
    },
    "language_info": {
      "name": "python"
    }
  },
  "cells": [
    {
      "cell_type": "markdown",
      "source": [
        "# Báo cáo đồ án môn Khoa học dữ liệu ứng dụng"
      ],
      "metadata": {
        "id": "gVlJ2zCs3fok"
      }
    },
    {
      "cell_type": "markdown",
      "source": [
        "Nhóm 6:\n",
        "1. 18120212 - Huỳnh Long Nam\n",
        "2. 18120438 - Nguyễn Đình Lộc"
      ],
      "metadata": {
        "id": "-iwEMWIK20mc"
      }
    },
    {
      "cell_type": "markdown",
      "source": [
        "# Mô tả bài toán"
      ],
      "metadata": {
        "id": "O5ZuaBSG3fVC"
      }
    },
    {
      "cell_type": "markdown",
      "source": [
        "## Giới thiệu\n",
        "\n",
        "- Nhà ở có thể được xem là tài sản quan trọng nhất của đời người. Tuy nhiên, hiện nay, tình trạng giá nhà bị đẩy lên quá cao so với giá trị thực, khiến cho việc sở hữu một nơi an cư trở nên khó khăn với nhiều người. \n",
        "\n",
        "- Giá trị của một căn có thể được cấu thành từ nhiều yếu tố như: diện tích, đường đi, vị trí ( gần hay xa trung tâm), các tiện nghi có sẵn, mức độ hoàn thiện căn nhà,.. Bên cạnh đó, để định giá một căn nhà cần phải có các kiến thức chuyên môn về bất động sản, hiểu biết về thị trường nhà ở trong khu vực,.. việc mà không phải ai cũng làm được.\n",
        "\n",
        "## Cuộc thi\n",
        "\n",
        "- Cuộc thi: [House Prices - Advanced Regression Techniques](https://www.kaggle.com/competitions/house-prices-advanced-regression-techniques)\n",
        "\n",
        "- Notebook mẫu: [#1 House Prices Solution [top 1%]](https://www.kaggle.com/code/jesucristo/1-house-prices-solution-top-1/notebook)\n",
        "\n",
        "- Colab làm việc: [ADS-CQ18-Project Nhóm 6](https://colab.research.google.com/drive/1rXQsO-E1CZFtNFTnWXWZXf4ejHLim6gb)\n",
        "\n",
        "- Nhóm lựa chọn cuộc thi **House Prices - Advanced Regression Techniques** cho đồ án của môn học với mong muốn sẽ hiểu rõ hơn về việc định giá một căn nhà, cũng học hỏi được một mô hình định giá nhà hiệu quả\n",
        "\n",
        "- Cuộc thi huy tụ được hơn 4000 đội thi trên Kaggle và đã có nhiều đội giải quyết bài toán rất hiệu quả\n",
        "\n",
        "- Notebook nhóm lựa chọn làm theo thuộc vào top 1%\n",
        "\n",
        "## Cách tính điểm\n",
        "\n",
        "Train:  1460 sales, and  81 features\n",
        "\n",
        "Test:  1459 sales, and  80 features\n",
        "\n",
        "Metric: Root-Mean-Squared-Error (RMSE)\n"
      ],
      "metadata": {
        "id": "EhnvcMA1465u"
      }
    },
    {
      "cell_type": "markdown",
      "source": [
        "# Giải quyết bài toán"
      ],
      "metadata": {
        "id": "kpwAPz4CZ47V"
      }
    },
    {
      "cell_type": "markdown",
      "source": [
        "Nhóm dựa trên notebook của tác giả, bắt đầu bằng việc tìm hiểu rõ về dataset: mô tả, EDA, kiểu dữ liệu, các giá trị bị thiếu,..."
      ],
      "metadata": {
        "id": "i1KbWoZFaSFJ"
      }
    },
    {
      "cell_type": "markdown",
      "source": [
        "## 1.Khám phá dữ liệu"
      ],
      "metadata": {
        "id": "PwNjjXxMWAgY"
      }
    },
    {
      "cell_type": "markdown",
      "source": [
        "- Dữ liệu là thông tin về các căn hộ được rao bán tại thành phố Ames, bang Iowa, Mỹ trong khoảng thời gian từ năm 2006 đến năm 2010. \n",
        "- Dữ liệu gồm và 79 cột. Trong đó có 23 cột là dữ liệu phân loại, 23 cột dữ liệu phân cấp và 33 cột dữ liệu số.\n",
        "- Tập train có 1460 dòng và tập test có 1459 dòng.\n",
        "- Các cột dữ liệu số đáng chú ý gồm có:\n",
        "  1.   GrLiveArea: diện tích sinh hoạt không bao gồm tầng hầm.\n",
        "  2.   GarageArea: diện tích ga-ra.\n",
        "  3.   TotalBsmtSF: tổng diện tích tầng hầm.\n",
        "  4.   1stFlrSF: diện tích tầng 1.\n",
        "  5.   TotRmsAbvGrd: tổng số phòng (không tính phòng tắm) không nằm dưới hầm.\n",
        "  6.   MasVnrArea: diện tích chân tường.\n",
        "- Các cột dữ liệu phân cấp đáng chú ý gồm có:\n",
        "  1.   OverallQual: chất lượng hoàn thiệt và vật liệu tổng thể của căn nhà.\n",
        "  2.   ExterQual: chất lượng ngoại thất.\n",
        "  3.   BsmtQual: chiều cao của tầng hầm.\n",
        "  4.   KitchenQual: chất lượng của nhà bếp.\n",
        "  5.   GarageFinish: chất lượng hoàn thiện bên trong ga-ra.\n",
        "  6.   FireplaceQu: chất lượng lò sưởi.\n",
        "  7.   HeatingQC: chất lượng và tình trạng của hệ thống sưởi (nước và không khí)- Các cột dữ liệu phân loại đáng chú ý:\n",
        "  1.   Neighborhood: những địa điểm ở thành phố Ames.\n",
        "  2.   Exterior1st: cách bao phủ mặt bên ngoài của tường.\n",
        "- Các cột phía trên chứa dữ liệu có mức độ tương quan lớn với giá thành của căn nhà.\n",
        "- Ngoài ra còn có các cột dữ liệu bị thiếu có hàm ý:\n",
        "  *   Alley: kiểu hẻm mặt tiền căn nhà. => Căn nhà không nằm trong hẻm thì sẽ để trống.\n",
        "  *   BsmtQual, BsmtCond, BsmtExposure, BsmtFinType1, BsmtFinType2: các thuộc tính liên quan tới tầng hầm của căn nhà => Không có tầng hầm sẽ để trống.\n",
        "  *   FireplaceQu: chất lượng lò sưởi => Không có lò sưởi sẽ để trống.\n",
        "  *   GarageType, GarageFinish, GarageQual, GarageCond: thuộc tính liên quan tới ga-ra => Không có ga-ra sẽ để trống.\n",
        "  *   PoolQC: chất lượng hồ bơi => Không có hồ bơi sẽ để trống.\n",
        "  *   Fence: chất lượng hàng rào => Không có hàng rào sẽ để trống.\n",
        "  *   MiscFeature: những đặc trưng khác của căn nhà mà không nằm trong các thuộc tính trong bảng => Không có sẽ để trống.\n",
        "\n",
        "\n",
        "\n",
        "\n",
        "\n",
        "\n",
        "\n"
      ],
      "metadata": {
        "id": "Bl393yD_WK8v"
      }
    },
    {
      "cell_type": "markdown",
      "source": [
        "# 3. Tiền xử lý"
      ],
      "metadata": {
        "id": "IX4QlhfJ8BXg"
      }
    },
    {
      "cell_type": "code",
      "source": [
        ""
      ],
      "metadata": {
        "id": "h0oyUPAE8Ahv"
      },
      "execution_count": null,
      "outputs": []
    },
    {
      "cell_type": "markdown",
      "source": [
        "## Note\n",
        "Notebook: https://www.kaggle.com/code/jesucristo/1-house-prices-solution-top-1/notebook\n",
        "\n"
      ],
      "metadata": {
        "id": "oP-_MBrPtihe"
      }
    },
    {
      "cell_type": "code",
      "source": [
        ""
      ],
      "metadata": {
        "id": "KxG43g3ztlTp"
      },
      "execution_count": null,
      "outputs": []
    }
  ]
}