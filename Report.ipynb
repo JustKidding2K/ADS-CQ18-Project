{
  "nbformat": 4,
  "nbformat_minor": 0,
  "metadata": {
    "colab": {
      "name": "Report.ipynb",
      "provenance": [],
      "toc_visible": true,
      "authorship_tag": "ABX9TyPx3vQmPUVKF5y5B8JmZdav",
      "include_colab_link": true
    },
    "kernelspec": {
      "name": "python3",
      "display_name": "Python 3"
    },
    "language_info": {
      "name": "python"
    }
  },
  "cells": [
    {
      "cell_type": "markdown",
      "metadata": {
        "id": "view-in-github",
        "colab_type": "text"
      },
      "source": [
        "<a href=\"https://colab.research.google.com/github/JustKidding2K/ADS-CQ18-Project/blob/main/Report.ipynb\" target=\"_parent\"><img src=\"https://colab.research.google.com/assets/colab-badge.svg\" alt=\"Open In Colab\"/></a>"
      ]
    },
    {
      "cell_type": "markdown",
      "source": [
        "# ĐỒ ÁN MÔN HỌC \"KHOA HỌC DỮ LIỆU ỨNG DỤNG\"\n",
        "\n",
        "Giáo viên hướng dẫn: Trần Trung Kiên\n",
        "\n",
        "Nhóm 6:\n",
        "\n",
        "1. 18120212 - Huỳnh Long Nam"
      ],
      "metadata": {
        "id": "d-etZBiZhSua"
      }
    },
    {
      "cell_type": "markdown",
      "source": [
        "# 1. Mô tả bài toán"
      ],
      "metadata": {
        "id": "8D3AYHKjhp0D"
      }
    },
    {
      "cell_type": "markdown",
      "source": [
        "## 1.1 Giới thiệu bài toán"
      ],
      "metadata": {
        "id": "NVFLYgGIiiGx"
      }
    },
    {
      "cell_type": "markdown",
      "source": [
        "**Cuộc thi:** [Corporación Favorita Grocery Sales Forecasting](https://www.kaggle.com/competitions/favorita-grocery-sales-forecasting)\n",
        "\n",
        "**Mô tả bài toán**:\n",
        "\n",
        "- **Corporación Favorita** là một nhà bán lẻ lớn từ Ecuado, với hàng hàng trăm cửa hàng và hơn 200,000 mặt hàng được kinh doanh. Hệ thống phải đối mặt với vấn đề cung ứng số lượng hàng hóa cho các cửa hàng với đặc điểm khác nhau,... Nếu nhập quá nhiều, hàng hóa sẽ bị ùn ứ, hư hỏng. Nếu nhập quá ít, cửa hàng sẽ mất khách, giảm doanh thu, lợi nhuận.\n",
        "- Do đó, Corporación Favorita tổ chức cuộc thi ***Corporación Favorita Grocery Sales Forecasting*** nhằm tìm ra mô hình dự doán chính xác nhất về doanh số của các mặt hàng, giải quyết bài toán cung ứng trên.\n",
        "- Các đội thi sẽ phải dự đoán doanh số bán của hàng nghìn sản phẩm tại các cửa hàng của Favorita dựa trên các thông tin về thời gian, cửa hàng, sản phẩm, sản phẩm có được quảng bá hay không và số lượng sản phẩm đã bán được(tập train)\n",
        "\n",
        "**Số đội tham dự:** 1,671\n",
        "\n",
        "**Giải thưởng:** $tổng 30,000 trong đó:\n",
        "\n",
        "- $15, 000 cho đội về 1\n",
        "\n",
        "- $10, 000 cho đội về 2\n",
        "\n",
        "- $ 5, 000 cho đội về 3"
      ],
      "metadata": {
        "id": "XDsDT2igjri6"
      }
    },
    {
      "cell_type": "markdown",
      "source": [
        "## 1.2 Sơ lược về dữ liệu"
      ],
      "metadata": {
        "id": "yzn9sWxLi0eV"
      }
    },
    {
      "cell_type": "markdown",
      "source": [
        "Dữ liều gồm 2 file chính: \n",
        "\n",
        "<code>train.csv</code> \n",
        "- 125,497,041 dòng (~4.99GB)\n",
        "- Các thông tin bán hàng từ 01-01-2013 đến 15-08-2017\n",
        "\n",
        "<code>test.csv</code>\n",
        "- 3,370,464 dòng (~0.12 GB)\n",
        "- Các thông tin bán hàng từ 16-08-2017 đến 31-08-2017 (bỏ cột unit_sales)\n",
        "\n",
        "Mỗi dòng bao gồm thông tin về một sản phẩm được bán ra: \n",
        "\n",
        "Input:\n",
        "- <code>date</code>: ngày bán \n",
        "- <code>store_nbr</code>: mã cửa hàng\n",
        "- <code>item_nbr</code>: mã sản phẩm\n",
        "- <code>onpromotion</code>: có đang được quảng bá\n",
        "\n",
        "Output:\n",
        "- <code>unit_sales</code>: số đơn vị bán được (số lượng, khối lượng, thể tích,...)\n",
        "\n",
        "và các file dữ liệu khác bao gồm:\n",
        "\n",
        "<code>stores.csv</code> : thông tin về cửa hàng (store_nbr, city, state, type, cluster)\n",
        "\n",
        "<code>items.csv</code> :  thông tin về sản phẩm (item_nbr, family, class, perishable)\n",
        "\n",
        "<code>transactions.csv</code> : doanh số bán từng ngày của từng cửa hàng (date, store_nbr, transactions)\n",
        "\n",
        "<code>oil.csv</code> : giá dầu hàng ngày (date, dcoilwtico)\n",
        "\n",
        "<code>holidays_events.csv</code> : các ngày lễ tại Ecuador (date, type,locale,locale_name, description, transferred)"
      ],
      "metadata": {
        "id": "HsdhKOcyrQlX"
      }
    },
    {
      "cell_type": "markdown",
      "source": [
        "## 1.3 Giới thiệu solution"
      ],
      "metadata": {
        "id": "Ue3M49BwipLu"
      }
    },
    {
      "cell_type": "markdown",
      "source": [
        "- Solution được nhóm lựa chọn đạt được [top 1](https://www.kaggle.com/code/shixw125/1st-place-lgb-model-public-0-506-private-0-511) trên [Private Leaderboard](https://www.kaggle.com/competitions/favorita-grocery-sales-forecasting/leaderboard) với scorce <code>0.50918</code> theo độ lỗi <code>Normalized Weighted Root Mean Squared Logarithmic Error</code> (càng thấp càng tốt):\n",
        "\n",
        "$$ NWRMSLE = \\sqrt{ \\frac{\\sum{i=1}^n wi \\left( \\ln(\\hat{y}i + 1) - \\ln(yi +1)  \\right)^2  }{\\sum{i=1}^n wi}} $$\n",
        "\n",
        "- Solution được đề cử bởi ba tác giả [pengyan](https://www.kaggle.com/pengyan), [shixw125](https://www.kaggle.com/shixw125), [infzero](https://www.kaggle.com/infzero) và được tác giả [shixw125](https://www.kaggle.com/shixw125) upload sau cuộc thi\n",
        "\n",
        "- Solution chỉ sử dụng 59,038,132 (~ một nửa tập train)"
      ],
      "metadata": {
        "id": "Ka4jLwFdzdL9"
      }
    },
    {
      "cell_type": "markdown",
      "source": [
        "# 2. Giải quyết bài toán"
      ],
      "metadata": {
        "id": "ozIWgzfbiHTZ"
      }
    },
    {
      "cell_type": "markdown",
      "source": [
        "## 2.0 Import thư viện cần thiết"
      ],
      "metadata": {
        "id": "2lWjJ_JOx1eb"
      }
    },
    {
      "cell_type": "code",
      "source": [
        "from google.colab import drive\n",
        "import os\n",
        "\n",
        "from datetime import date, timedelta\n",
        "import gc\n",
        "import pandas as pd\n",
        "import numpy as np\n",
        "from sklearn.metrics import mean_squared_error\n",
        "from sklearn.preprocessing import LabelEncoder\n",
        "\n",
        "import lightgbm as lgb"
      ],
      "metadata": {
        "id": "ueiDdcljx75r"
      },
      "execution_count": 3,
      "outputs": []
    },
    {
      "cell_type": "markdown",
      "source": [
        "## 2.1 Đọc dữ liệu"
      ],
      "metadata": {
        "id": "gq_gVTD-1nzp"
      }
    },
    {
      "cell_type": "code",
      "source": [
        "from google.colab import drive\n",
        "import os\n",
        "\n",
        "drive.mount(\"/content/gdrive\", force_remount=True)\n",
        "os.environ['KAGGLE_CONFIG_DIR'] = \"/content/gdrive/MyDrive\""
      ],
      "metadata": {
        "colab": {
          "base_uri": "https://localhost:8080/"
        },
        "id": "0JUfv1nwxwk9",
        "outputId": "4ab8b435-b21e-4658-9fe9-436d8808d4ab"
      },
      "execution_count": 1,
      "outputs": [
        {
          "output_type": "stream",
          "name": "stdout",
          "text": [
            "Mounted at /content/gdrive\n"
          ]
        }
      ]
    },
    {
      "cell_type": "markdown",
      "source": [
        "Tập train gồm khoảng 120 triệu dòng, là các đơn hàng được bán từ 01-01-2013 đến 15-08-2017. Ở đây, tác giả chỉ đọc dữ liệu từ 01-01-2016, với khoảng 60 triệu dòng (một nửa dữ liệu)\n",
        "Tuy vậy, việc đọc dữ liệu cũng tốt gần 4'"
      ],
      "metadata": {
        "id": "zULZamjW1niu"
      }
    },
    {
      "cell_type": "code",
      "source": [
        "df_train = pd.read_csv(\n",
        "    'gdrive/MyDrive/input/train.csv', usecols=[1, 2, 3, 4, 5],\n",
        "    dtype={'onpromotion': bool},\n",
        "    converters={'unit_sales': lambda u: np.log1p(\n",
        "        float(u)) if float(u) > 0 else 0},\n",
        "    parse_dates=[\"date\"],\n",
        "    skiprows=range(1, 66458909)  # 2016-01-01\n",
        ")"
      ],
      "metadata": {
        "id": "4lUnvEzwygoY"
      },
      "execution_count": 4,
      "outputs": []
    },
    {
      "cell_type": "code",
      "source": [
        "# show\n",
        "df_train"
      ],
      "metadata": {
        "colab": {
          "base_uri": "https://localhost:8080/",
          "height": 423
        },
        "id": "frA7yhjzzGJD",
        "outputId": "39eb6459-23ba-4ef0-ac31-72c067bd8e3f"
      },
      "execution_count": 5,
      "outputs": [
        {
          "output_type": "execute_result",
          "data": {
            "text/plain": [
              "               date  store_nbr  item_nbr  unit_sales  onpromotion\n",
              "0        2016-01-01         25    105574    2.564949        False\n",
              "1        2016-01-01         25    105575    2.302585        False\n",
              "2        2016-01-01         25    105857    1.386294        False\n",
              "3        2016-01-01         25    108634    1.386294        False\n",
              "4        2016-01-01         25    108701    1.098612         True\n",
              "...             ...        ...       ...         ...          ...\n",
              "59038127 2017-08-15         54   2089339    1.609438        False\n",
              "59038128 2017-08-15         54   2106464    0.693147         True\n",
              "59038129 2017-08-15         54   2110456    5.262690        False\n",
              "59038130 2017-08-15         54   2113914    5.293305         True\n",
              "59038131 2017-08-15         54   2116416    1.098612        False\n",
              "\n",
              "[59038132 rows x 5 columns]"
            ],
            "text/html": [
              "\n",
              "  <div id=\"df-499d83fe-c3e5-4140-b2bd-922ab0462659\">\n",
              "    <div class=\"colab-df-container\">\n",
              "      <div>\n",
              "<style scoped>\n",
              "    .dataframe tbody tr th:only-of-type {\n",
              "        vertical-align: middle;\n",
              "    }\n",
              "\n",
              "    .dataframe tbody tr th {\n",
              "        vertical-align: top;\n",
              "    }\n",
              "\n",
              "    .dataframe thead th {\n",
              "        text-align: right;\n",
              "    }\n",
              "</style>\n",
              "<table border=\"1\" class=\"dataframe\">\n",
              "  <thead>\n",
              "    <tr style=\"text-align: right;\">\n",
              "      <th></th>\n",
              "      <th>date</th>\n",
              "      <th>store_nbr</th>\n",
              "      <th>item_nbr</th>\n",
              "      <th>unit_sales</th>\n",
              "      <th>onpromotion</th>\n",
              "    </tr>\n",
              "  </thead>\n",
              "  <tbody>\n",
              "    <tr>\n",
              "      <th>0</th>\n",
              "      <td>2016-01-01</td>\n",
              "      <td>25</td>\n",
              "      <td>105574</td>\n",
              "      <td>2.564949</td>\n",
              "      <td>False</td>\n",
              "    </tr>\n",
              "    <tr>\n",
              "      <th>1</th>\n",
              "      <td>2016-01-01</td>\n",
              "      <td>25</td>\n",
              "      <td>105575</td>\n",
              "      <td>2.302585</td>\n",
              "      <td>False</td>\n",
              "    </tr>\n",
              "    <tr>\n",
              "      <th>2</th>\n",
              "      <td>2016-01-01</td>\n",
              "      <td>25</td>\n",
              "      <td>105857</td>\n",
              "      <td>1.386294</td>\n",
              "      <td>False</td>\n",
              "    </tr>\n",
              "    <tr>\n",
              "      <th>3</th>\n",
              "      <td>2016-01-01</td>\n",
              "      <td>25</td>\n",
              "      <td>108634</td>\n",
              "      <td>1.386294</td>\n",
              "      <td>False</td>\n",
              "    </tr>\n",
              "    <tr>\n",
              "      <th>4</th>\n",
              "      <td>2016-01-01</td>\n",
              "      <td>25</td>\n",
              "      <td>108701</td>\n",
              "      <td>1.098612</td>\n",
              "      <td>True</td>\n",
              "    </tr>\n",
              "    <tr>\n",
              "      <th>...</th>\n",
              "      <td>...</td>\n",
              "      <td>...</td>\n",
              "      <td>...</td>\n",
              "      <td>...</td>\n",
              "      <td>...</td>\n",
              "    </tr>\n",
              "    <tr>\n",
              "      <th>59038127</th>\n",
              "      <td>2017-08-15</td>\n",
              "      <td>54</td>\n",
              "      <td>2089339</td>\n",
              "      <td>1.609438</td>\n",
              "      <td>False</td>\n",
              "    </tr>\n",
              "    <tr>\n",
              "      <th>59038128</th>\n",
              "      <td>2017-08-15</td>\n",
              "      <td>54</td>\n",
              "      <td>2106464</td>\n",
              "      <td>0.693147</td>\n",
              "      <td>True</td>\n",
              "    </tr>\n",
              "    <tr>\n",
              "      <th>59038129</th>\n",
              "      <td>2017-08-15</td>\n",
              "      <td>54</td>\n",
              "      <td>2110456</td>\n",
              "      <td>5.262690</td>\n",
              "      <td>False</td>\n",
              "    </tr>\n",
              "    <tr>\n",
              "      <th>59038130</th>\n",
              "      <td>2017-08-15</td>\n",
              "      <td>54</td>\n",
              "      <td>2113914</td>\n",
              "      <td>5.293305</td>\n",
              "      <td>True</td>\n",
              "    </tr>\n",
              "    <tr>\n",
              "      <th>59038131</th>\n",
              "      <td>2017-08-15</td>\n",
              "      <td>54</td>\n",
              "      <td>2116416</td>\n",
              "      <td>1.098612</td>\n",
              "      <td>False</td>\n",
              "    </tr>\n",
              "  </tbody>\n",
              "</table>\n",
              "<p>59038132 rows × 5 columns</p>\n",
              "</div>\n",
              "      <button class=\"colab-df-convert\" onclick=\"convertToInteractive('df-499d83fe-c3e5-4140-b2bd-922ab0462659')\"\n",
              "              title=\"Convert this dataframe to an interactive table.\"\n",
              "              style=\"display:none;\">\n",
              "        \n",
              "  <svg xmlns=\"http://www.w3.org/2000/svg\" height=\"24px\"viewBox=\"0 0 24 24\"\n",
              "       width=\"24px\">\n",
              "    <path d=\"M0 0h24v24H0V0z\" fill=\"none\"/>\n",
              "    <path d=\"M18.56 5.44l.94 2.06.94-2.06 2.06-.94-2.06-.94-.94-2.06-.94 2.06-2.06.94zm-11 1L8.5 8.5l.94-2.06 2.06-.94-2.06-.94L8.5 2.5l-.94 2.06-2.06.94zm10 10l.94 2.06.94-2.06 2.06-.94-2.06-.94-.94-2.06-.94 2.06-2.06.94z\"/><path d=\"M17.41 7.96l-1.37-1.37c-.4-.4-.92-.59-1.43-.59-.52 0-1.04.2-1.43.59L10.3 9.45l-7.72 7.72c-.78.78-.78 2.05 0 2.83L4 21.41c.39.39.9.59 1.41.59.51 0 1.02-.2 1.41-.59l7.78-7.78 2.81-2.81c.8-.78.8-2.07 0-2.86zM5.41 20L4 18.59l7.72-7.72 1.47 1.35L5.41 20z\"/>\n",
              "  </svg>\n",
              "      </button>\n",
              "      \n",
              "  <style>\n",
              "    .colab-df-container {\n",
              "      display:flex;\n",
              "      flex-wrap:wrap;\n",
              "      gap: 12px;\n",
              "    }\n",
              "\n",
              "    .colab-df-convert {\n",
              "      background-color: #E8F0FE;\n",
              "      border: none;\n",
              "      border-radius: 50%;\n",
              "      cursor: pointer;\n",
              "      display: none;\n",
              "      fill: #1967D2;\n",
              "      height: 32px;\n",
              "      padding: 0 0 0 0;\n",
              "      width: 32px;\n",
              "    }\n",
              "\n",
              "    .colab-df-convert:hover {\n",
              "      background-color: #E2EBFA;\n",
              "      box-shadow: 0px 1px 2px rgba(60, 64, 67, 0.3), 0px 1px 3px 1px rgba(60, 64, 67, 0.15);\n",
              "      fill: #174EA6;\n",
              "    }\n",
              "\n",
              "    [theme=dark] .colab-df-convert {\n",
              "      background-color: #3B4455;\n",
              "      fill: #D2E3FC;\n",
              "    }\n",
              "\n",
              "    [theme=dark] .colab-df-convert:hover {\n",
              "      background-color: #434B5C;\n",
              "      box-shadow: 0px 1px 3px 1px rgba(0, 0, 0, 0.15);\n",
              "      filter: drop-shadow(0px 1px 2px rgba(0, 0, 0, 0.3));\n",
              "      fill: #FFFFFF;\n",
              "    }\n",
              "  </style>\n",
              "\n",
              "      <script>\n",
              "        const buttonEl =\n",
              "          document.querySelector('#df-499d83fe-c3e5-4140-b2bd-922ab0462659 button.colab-df-convert');\n",
              "        buttonEl.style.display =\n",
              "          google.colab.kernel.accessAllowed ? 'block' : 'none';\n",
              "\n",
              "        async function convertToInteractive(key) {\n",
              "          const element = document.querySelector('#df-499d83fe-c3e5-4140-b2bd-922ab0462659');\n",
              "          const dataTable =\n",
              "            await google.colab.kernel.invokeFunction('convertToInteractive',\n",
              "                                                     [key], {});\n",
              "          if (!dataTable) return;\n",
              "\n",
              "          const docLinkHtml = 'Like what you see? Visit the ' +\n",
              "            '<a target=\"_blank\" href=https://colab.research.google.com/notebooks/data_table.ipynb>data table notebook</a>'\n",
              "            + ' to learn more about interactive tables.';\n",
              "          element.innerHTML = '';\n",
              "          dataTable['output_type'] = 'display_data';\n",
              "          await google.colab.output.renderOutput(dataTable, element);\n",
              "          const docLink = document.createElement('div');\n",
              "          docLink.innerHTML = docLinkHtml;\n",
              "          element.appendChild(docLink);\n",
              "        }\n",
              "      </script>\n",
              "    </div>\n",
              "  </div>\n",
              "  "
            ]
          },
          "metadata": {},
          "execution_count": 5
        }
      ]
    },
    {
      "cell_type": "markdown",
      "source": [
        "Tập test là  các đơn hàng được bán từ 16-08-2017 đến 31-08-2017 (bỏ đi phần unit_sales), với hơn 3 triệu dòng"
      ],
      "metadata": {
        "id": "qs4SuTGN0BYG"
      }
    },
    {
      "cell_type": "code",
      "source": [
        "df_test = pd.read_csv(\n",
        "    \"gdrive/MyDrive/input/test.csv\", usecols=[0, 1, 2, 3, 4],\n",
        "    dtype={'onpromotion': bool},\n",
        "    parse_dates=[\"date\"]  # , date_parser=parser\n",
        ").set_index(\n",
        "    ['store_nbr', 'item_nbr', 'date']\n",
        ")"
      ],
      "metadata": {
        "id": "5Z8vNOiQzDek"
      },
      "execution_count": 8,
      "outputs": []
    },
    {
      "cell_type": "code",
      "source": [
        "# show\n",
        "df_test"
      ],
      "metadata": {
        "colab": {
          "base_uri": "https://localhost:8080/",
          "height": 455
        },
        "id": "FfNLdUIU0DZd",
        "outputId": "7e7ecb7f-e055-409c-9048-1ae7bdea87f3"
      },
      "execution_count": 9,
      "outputs": [
        {
          "output_type": "execute_result",
          "data": {
            "text/plain": [
              "                                      id  onpromotion\n",
              "store_nbr item_nbr date                              \n",
              "1         96995    2017-08-16  125497040        False\n",
              "          99197    2017-08-16  125497041        False\n",
              "          103501   2017-08-16  125497042        False\n",
              "          103520   2017-08-16  125497043        False\n",
              "          103665   2017-08-16  125497044        False\n",
              "...                                  ...          ...\n",
              "54        2132163  2017-08-31  128867499        False\n",
              "          2132318  2017-08-31  128867500        False\n",
              "          2132945  2017-08-31  128867501        False\n",
              "          2132957  2017-08-31  128867502        False\n",
              "          2134244  2017-08-31  128867503        False\n",
              "\n",
              "[3370464 rows x 2 columns]"
            ],
            "text/html": [
              "\n",
              "  <div id=\"df-9dc5763a-6afa-4d52-9561-9698d61054f0\">\n",
              "    <div class=\"colab-df-container\">\n",
              "      <div>\n",
              "<style scoped>\n",
              "    .dataframe tbody tr th:only-of-type {\n",
              "        vertical-align: middle;\n",
              "    }\n",
              "\n",
              "    .dataframe tbody tr th {\n",
              "        vertical-align: top;\n",
              "    }\n",
              "\n",
              "    .dataframe thead th {\n",
              "        text-align: right;\n",
              "    }\n",
              "</style>\n",
              "<table border=\"1\" class=\"dataframe\">\n",
              "  <thead>\n",
              "    <tr style=\"text-align: right;\">\n",
              "      <th></th>\n",
              "      <th></th>\n",
              "      <th></th>\n",
              "      <th>id</th>\n",
              "      <th>onpromotion</th>\n",
              "    </tr>\n",
              "    <tr>\n",
              "      <th>store_nbr</th>\n",
              "      <th>item_nbr</th>\n",
              "      <th>date</th>\n",
              "      <th></th>\n",
              "      <th></th>\n",
              "    </tr>\n",
              "  </thead>\n",
              "  <tbody>\n",
              "    <tr>\n",
              "      <th rowspan=\"5\" valign=\"top\">1</th>\n",
              "      <th>96995</th>\n",
              "      <th>2017-08-16</th>\n",
              "      <td>125497040</td>\n",
              "      <td>False</td>\n",
              "    </tr>\n",
              "    <tr>\n",
              "      <th>99197</th>\n",
              "      <th>2017-08-16</th>\n",
              "      <td>125497041</td>\n",
              "      <td>False</td>\n",
              "    </tr>\n",
              "    <tr>\n",
              "      <th>103501</th>\n",
              "      <th>2017-08-16</th>\n",
              "      <td>125497042</td>\n",
              "      <td>False</td>\n",
              "    </tr>\n",
              "    <tr>\n",
              "      <th>103520</th>\n",
              "      <th>2017-08-16</th>\n",
              "      <td>125497043</td>\n",
              "      <td>False</td>\n",
              "    </tr>\n",
              "    <tr>\n",
              "      <th>103665</th>\n",
              "      <th>2017-08-16</th>\n",
              "      <td>125497044</td>\n",
              "      <td>False</td>\n",
              "    </tr>\n",
              "    <tr>\n",
              "      <th>...</th>\n",
              "      <th>...</th>\n",
              "      <th>...</th>\n",
              "      <td>...</td>\n",
              "      <td>...</td>\n",
              "    </tr>\n",
              "    <tr>\n",
              "      <th rowspan=\"5\" valign=\"top\">54</th>\n",
              "      <th>2132163</th>\n",
              "      <th>2017-08-31</th>\n",
              "      <td>128867499</td>\n",
              "      <td>False</td>\n",
              "    </tr>\n",
              "    <tr>\n",
              "      <th>2132318</th>\n",
              "      <th>2017-08-31</th>\n",
              "      <td>128867500</td>\n",
              "      <td>False</td>\n",
              "    </tr>\n",
              "    <tr>\n",
              "      <th>2132945</th>\n",
              "      <th>2017-08-31</th>\n",
              "      <td>128867501</td>\n",
              "      <td>False</td>\n",
              "    </tr>\n",
              "    <tr>\n",
              "      <th>2132957</th>\n",
              "      <th>2017-08-31</th>\n",
              "      <td>128867502</td>\n",
              "      <td>False</td>\n",
              "    </tr>\n",
              "    <tr>\n",
              "      <th>2134244</th>\n",
              "      <th>2017-08-31</th>\n",
              "      <td>128867503</td>\n",
              "      <td>False</td>\n",
              "    </tr>\n",
              "  </tbody>\n",
              "</table>\n",
              "<p>3370464 rows × 2 columns</p>\n",
              "</div>\n",
              "      <button class=\"colab-df-convert\" onclick=\"convertToInteractive('df-9dc5763a-6afa-4d52-9561-9698d61054f0')\"\n",
              "              title=\"Convert this dataframe to an interactive table.\"\n",
              "              style=\"display:none;\">\n",
              "        \n",
              "  <svg xmlns=\"http://www.w3.org/2000/svg\" height=\"24px\"viewBox=\"0 0 24 24\"\n",
              "       width=\"24px\">\n",
              "    <path d=\"M0 0h24v24H0V0z\" fill=\"none\"/>\n",
              "    <path d=\"M18.56 5.44l.94 2.06.94-2.06 2.06-.94-2.06-.94-.94-2.06-.94 2.06-2.06.94zm-11 1L8.5 8.5l.94-2.06 2.06-.94-2.06-.94L8.5 2.5l-.94 2.06-2.06.94zm10 10l.94 2.06.94-2.06 2.06-.94-2.06-.94-.94-2.06-.94 2.06-2.06.94z\"/><path d=\"M17.41 7.96l-1.37-1.37c-.4-.4-.92-.59-1.43-.59-.52 0-1.04.2-1.43.59L10.3 9.45l-7.72 7.72c-.78.78-.78 2.05 0 2.83L4 21.41c.39.39.9.59 1.41.59.51 0 1.02-.2 1.41-.59l7.78-7.78 2.81-2.81c.8-.78.8-2.07 0-2.86zM5.41 20L4 18.59l7.72-7.72 1.47 1.35L5.41 20z\"/>\n",
              "  </svg>\n",
              "      </button>\n",
              "      \n",
              "  <style>\n",
              "    .colab-df-container {\n",
              "      display:flex;\n",
              "      flex-wrap:wrap;\n",
              "      gap: 12px;\n",
              "    }\n",
              "\n",
              "    .colab-df-convert {\n",
              "      background-color: #E8F0FE;\n",
              "      border: none;\n",
              "      border-radius: 50%;\n",
              "      cursor: pointer;\n",
              "      display: none;\n",
              "      fill: #1967D2;\n",
              "      height: 32px;\n",
              "      padding: 0 0 0 0;\n",
              "      width: 32px;\n",
              "    }\n",
              "\n",
              "    .colab-df-convert:hover {\n",
              "      background-color: #E2EBFA;\n",
              "      box-shadow: 0px 1px 2px rgba(60, 64, 67, 0.3), 0px 1px 3px 1px rgba(60, 64, 67, 0.15);\n",
              "      fill: #174EA6;\n",
              "    }\n",
              "\n",
              "    [theme=dark] .colab-df-convert {\n",
              "      background-color: #3B4455;\n",
              "      fill: #D2E3FC;\n",
              "    }\n",
              "\n",
              "    [theme=dark] .colab-df-convert:hover {\n",
              "      background-color: #434B5C;\n",
              "      box-shadow: 0px 1px 3px 1px rgba(0, 0, 0, 0.15);\n",
              "      filter: drop-shadow(0px 1px 2px rgba(0, 0, 0, 0.3));\n",
              "      fill: #FFFFFF;\n",
              "    }\n",
              "  </style>\n",
              "\n",
              "      <script>\n",
              "        const buttonEl =\n",
              "          document.querySelector('#df-9dc5763a-6afa-4d52-9561-9698d61054f0 button.colab-df-convert');\n",
              "        buttonEl.style.display =\n",
              "          google.colab.kernel.accessAllowed ? 'block' : 'none';\n",
              "\n",
              "        async function convertToInteractive(key) {\n",
              "          const element = document.querySelector('#df-9dc5763a-6afa-4d52-9561-9698d61054f0');\n",
              "          const dataTable =\n",
              "            await google.colab.kernel.invokeFunction('convertToInteractive',\n",
              "                                                     [key], {});\n",
              "          if (!dataTable) return;\n",
              "\n",
              "          const docLinkHtml = 'Like what you see? Visit the ' +\n",
              "            '<a target=\"_blank\" href=https://colab.research.google.com/notebooks/data_table.ipynb>data table notebook</a>'\n",
              "            + ' to learn more about interactive tables.';\n",
              "          element.innerHTML = '';\n",
              "          dataTable['output_type'] = 'display_data';\n",
              "          await google.colab.output.renderOutput(dataTable, element);\n",
              "          const docLink = document.createElement('div');\n",
              "          docLink.innerHTML = docLinkHtml;\n",
              "          element.appendChild(docLink);\n",
              "        }\n",
              "      </script>\n",
              "    </div>\n",
              "  </div>\n",
              "  "
            ]
          },
          "metadata": {},
          "execution_count": 9
        }
      ]
    },
    {
      "cell_type": "markdown",
      "source": [
        "Bên cạnh đó là các file dữ liệu khác: items, stores"
      ],
      "metadata": {
        "id": "nyZ9z1ZI1ndL"
      }
    },
    {
      "cell_type": "code",
      "source": [
        "items = pd.read_csv(\n",
        "    \"gdrive/MyDrive/input/items.csv\",\n",
        ").set_index(\"item_nbr\")"
      ],
      "metadata": {
        "id": "ULFzj03S0mv6"
      },
      "execution_count": 10,
      "outputs": []
    },
    {
      "cell_type": "code",
      "source": [
        "# show\n",
        "items"
      ],
      "metadata": {
        "colab": {
          "base_uri": "https://localhost:8080/",
          "height": 455
        },
        "id": "yB3AO4Y20uCB",
        "outputId": "737d710f-601e-4e8f-d1a2-86ff4ddf3a6a"
      },
      "execution_count": 11,
      "outputs": [
        {
          "output_type": "execute_result",
          "data": {
            "text/plain": [
              "                    family  class  perishable\n",
              "item_nbr                                     \n",
              "96995            GROCERY I   1093           0\n",
              "99197            GROCERY I   1067           0\n",
              "103501            CLEANING   3008           0\n",
              "103520           GROCERY I   1028           0\n",
              "103665        BREAD/BAKERY   2712           1\n",
              "...                    ...    ...         ...\n",
              "2132318          GROCERY I   1002           0\n",
              "2132945          GROCERY I   1026           0\n",
              "2132957          GROCERY I   1068           0\n",
              "2134058          BEVERAGES   1124           0\n",
              "2134244   LIQUOR,WINE,BEER   1364           0\n",
              "\n",
              "[4100 rows x 3 columns]"
            ],
            "text/html": [
              "\n",
              "  <div id=\"df-79bd212e-d283-430d-ac92-bfd85340a112\">\n",
              "    <div class=\"colab-df-container\">\n",
              "      <div>\n",
              "<style scoped>\n",
              "    .dataframe tbody tr th:only-of-type {\n",
              "        vertical-align: middle;\n",
              "    }\n",
              "\n",
              "    .dataframe tbody tr th {\n",
              "        vertical-align: top;\n",
              "    }\n",
              "\n",
              "    .dataframe thead th {\n",
              "        text-align: right;\n",
              "    }\n",
              "</style>\n",
              "<table border=\"1\" class=\"dataframe\">\n",
              "  <thead>\n",
              "    <tr style=\"text-align: right;\">\n",
              "      <th></th>\n",
              "      <th>family</th>\n",
              "      <th>class</th>\n",
              "      <th>perishable</th>\n",
              "    </tr>\n",
              "    <tr>\n",
              "      <th>item_nbr</th>\n",
              "      <th></th>\n",
              "      <th></th>\n",
              "      <th></th>\n",
              "    </tr>\n",
              "  </thead>\n",
              "  <tbody>\n",
              "    <tr>\n",
              "      <th>96995</th>\n",
              "      <td>GROCERY I</td>\n",
              "      <td>1093</td>\n",
              "      <td>0</td>\n",
              "    </tr>\n",
              "    <tr>\n",
              "      <th>99197</th>\n",
              "      <td>GROCERY I</td>\n",
              "      <td>1067</td>\n",
              "      <td>0</td>\n",
              "    </tr>\n",
              "    <tr>\n",
              "      <th>103501</th>\n",
              "      <td>CLEANING</td>\n",
              "      <td>3008</td>\n",
              "      <td>0</td>\n",
              "    </tr>\n",
              "    <tr>\n",
              "      <th>103520</th>\n",
              "      <td>GROCERY I</td>\n",
              "      <td>1028</td>\n",
              "      <td>0</td>\n",
              "    </tr>\n",
              "    <tr>\n",
              "      <th>103665</th>\n",
              "      <td>BREAD/BAKERY</td>\n",
              "      <td>2712</td>\n",
              "      <td>1</td>\n",
              "    </tr>\n",
              "    <tr>\n",
              "      <th>...</th>\n",
              "      <td>...</td>\n",
              "      <td>...</td>\n",
              "      <td>...</td>\n",
              "    </tr>\n",
              "    <tr>\n",
              "      <th>2132318</th>\n",
              "      <td>GROCERY I</td>\n",
              "      <td>1002</td>\n",
              "      <td>0</td>\n",
              "    </tr>\n",
              "    <tr>\n",
              "      <th>2132945</th>\n",
              "      <td>GROCERY I</td>\n",
              "      <td>1026</td>\n",
              "      <td>0</td>\n",
              "    </tr>\n",
              "    <tr>\n",
              "      <th>2132957</th>\n",
              "      <td>GROCERY I</td>\n",
              "      <td>1068</td>\n",
              "      <td>0</td>\n",
              "    </tr>\n",
              "    <tr>\n",
              "      <th>2134058</th>\n",
              "      <td>BEVERAGES</td>\n",
              "      <td>1124</td>\n",
              "      <td>0</td>\n",
              "    </tr>\n",
              "    <tr>\n",
              "      <th>2134244</th>\n",
              "      <td>LIQUOR,WINE,BEER</td>\n",
              "      <td>1364</td>\n",
              "      <td>0</td>\n",
              "    </tr>\n",
              "  </tbody>\n",
              "</table>\n",
              "<p>4100 rows × 3 columns</p>\n",
              "</div>\n",
              "      <button class=\"colab-df-convert\" onclick=\"convertToInteractive('df-79bd212e-d283-430d-ac92-bfd85340a112')\"\n",
              "              title=\"Convert this dataframe to an interactive table.\"\n",
              "              style=\"display:none;\">\n",
              "        \n",
              "  <svg xmlns=\"http://www.w3.org/2000/svg\" height=\"24px\"viewBox=\"0 0 24 24\"\n",
              "       width=\"24px\">\n",
              "    <path d=\"M0 0h24v24H0V0z\" fill=\"none\"/>\n",
              "    <path d=\"M18.56 5.44l.94 2.06.94-2.06 2.06-.94-2.06-.94-.94-2.06-.94 2.06-2.06.94zm-11 1L8.5 8.5l.94-2.06 2.06-.94-2.06-.94L8.5 2.5l-.94 2.06-2.06.94zm10 10l.94 2.06.94-2.06 2.06-.94-2.06-.94-.94-2.06-.94 2.06-2.06.94z\"/><path d=\"M17.41 7.96l-1.37-1.37c-.4-.4-.92-.59-1.43-.59-.52 0-1.04.2-1.43.59L10.3 9.45l-7.72 7.72c-.78.78-.78 2.05 0 2.83L4 21.41c.39.39.9.59 1.41.59.51 0 1.02-.2 1.41-.59l7.78-7.78 2.81-2.81c.8-.78.8-2.07 0-2.86zM5.41 20L4 18.59l7.72-7.72 1.47 1.35L5.41 20z\"/>\n",
              "  </svg>\n",
              "      </button>\n",
              "      \n",
              "  <style>\n",
              "    .colab-df-container {\n",
              "      display:flex;\n",
              "      flex-wrap:wrap;\n",
              "      gap: 12px;\n",
              "    }\n",
              "\n",
              "    .colab-df-convert {\n",
              "      background-color: #E8F0FE;\n",
              "      border: none;\n",
              "      border-radius: 50%;\n",
              "      cursor: pointer;\n",
              "      display: none;\n",
              "      fill: #1967D2;\n",
              "      height: 32px;\n",
              "      padding: 0 0 0 0;\n",
              "      width: 32px;\n",
              "    }\n",
              "\n",
              "    .colab-df-convert:hover {\n",
              "      background-color: #E2EBFA;\n",
              "      box-shadow: 0px 1px 2px rgba(60, 64, 67, 0.3), 0px 1px 3px 1px rgba(60, 64, 67, 0.15);\n",
              "      fill: #174EA6;\n",
              "    }\n",
              "\n",
              "    [theme=dark] .colab-df-convert {\n",
              "      background-color: #3B4455;\n",
              "      fill: #D2E3FC;\n",
              "    }\n",
              "\n",
              "    [theme=dark] .colab-df-convert:hover {\n",
              "      background-color: #434B5C;\n",
              "      box-shadow: 0px 1px 3px 1px rgba(0, 0, 0, 0.15);\n",
              "      filter: drop-shadow(0px 1px 2px rgba(0, 0, 0, 0.3));\n",
              "      fill: #FFFFFF;\n",
              "    }\n",
              "  </style>\n",
              "\n",
              "      <script>\n",
              "        const buttonEl =\n",
              "          document.querySelector('#df-79bd212e-d283-430d-ac92-bfd85340a112 button.colab-df-convert');\n",
              "        buttonEl.style.display =\n",
              "          google.colab.kernel.accessAllowed ? 'block' : 'none';\n",
              "\n",
              "        async function convertToInteractive(key) {\n",
              "          const element = document.querySelector('#df-79bd212e-d283-430d-ac92-bfd85340a112');\n",
              "          const dataTable =\n",
              "            await google.colab.kernel.invokeFunction('convertToInteractive',\n",
              "                                                     [key], {});\n",
              "          if (!dataTable) return;\n",
              "\n",
              "          const docLinkHtml = 'Like what you see? Visit the ' +\n",
              "            '<a target=\"_blank\" href=https://colab.research.google.com/notebooks/data_table.ipynb>data table notebook</a>'\n",
              "            + ' to learn more about interactive tables.';\n",
              "          element.innerHTML = '';\n",
              "          dataTable['output_type'] = 'display_data';\n",
              "          await google.colab.output.renderOutput(dataTable, element);\n",
              "          const docLink = document.createElement('div');\n",
              "          docLink.innerHTML = docLinkHtml;\n",
              "          element.appendChild(docLink);\n",
              "        }\n",
              "      </script>\n",
              "    </div>\n",
              "  </div>\n",
              "  "
            ]
          },
          "metadata": {},
          "execution_count": 11
        }
      ]
    },
    {
      "cell_type": "code",
      "source": [
        "stores = pd.read_csv(\n",
        "    \"gdrive/MyDrive/input/stores.csv\",\n",
        ").set_index(\"store_nbr\")"
      ],
      "metadata": {
        "id": "FaelBm7v06le"
      },
      "execution_count": 13,
      "outputs": []
    },
    {
      "cell_type": "code",
      "source": [
        "# stores\n",
        "stores.head()"
      ],
      "metadata": {
        "colab": {
          "base_uri": "https://localhost:8080/",
          "height": 238
        },
        "id": "iwjzlZMg0_dj",
        "outputId": "a401614b-e6ee-4c4c-9012-dc012fd7a22e"
      },
      "execution_count": 15,
      "outputs": [
        {
          "output_type": "execute_result",
          "data": {
            "text/plain": [
              "                    city                           state type  cluster\n",
              "store_nbr                                                             \n",
              "1                  Quito                       Pichincha    D       13\n",
              "2                  Quito                       Pichincha    D       13\n",
              "3                  Quito                       Pichincha    D        8\n",
              "4                  Quito                       Pichincha    D        9\n",
              "5          Santo Domingo  Santo Domingo de los Tsachilas    D        4"
            ],
            "text/html": [
              "\n",
              "  <div id=\"df-a7eb6f0e-bad5-4b77-ba5d-e601c21a6c84\">\n",
              "    <div class=\"colab-df-container\">\n",
              "      <div>\n",
              "<style scoped>\n",
              "    .dataframe tbody tr th:only-of-type {\n",
              "        vertical-align: middle;\n",
              "    }\n",
              "\n",
              "    .dataframe tbody tr th {\n",
              "        vertical-align: top;\n",
              "    }\n",
              "\n",
              "    .dataframe thead th {\n",
              "        text-align: right;\n",
              "    }\n",
              "</style>\n",
              "<table border=\"1\" class=\"dataframe\">\n",
              "  <thead>\n",
              "    <tr style=\"text-align: right;\">\n",
              "      <th></th>\n",
              "      <th>city</th>\n",
              "      <th>state</th>\n",
              "      <th>type</th>\n",
              "      <th>cluster</th>\n",
              "    </tr>\n",
              "    <tr>\n",
              "      <th>store_nbr</th>\n",
              "      <th></th>\n",
              "      <th></th>\n",
              "      <th></th>\n",
              "      <th></th>\n",
              "    </tr>\n",
              "  </thead>\n",
              "  <tbody>\n",
              "    <tr>\n",
              "      <th>1</th>\n",
              "      <td>Quito</td>\n",
              "      <td>Pichincha</td>\n",
              "      <td>D</td>\n",
              "      <td>13</td>\n",
              "    </tr>\n",
              "    <tr>\n",
              "      <th>2</th>\n",
              "      <td>Quito</td>\n",
              "      <td>Pichincha</td>\n",
              "      <td>D</td>\n",
              "      <td>13</td>\n",
              "    </tr>\n",
              "    <tr>\n",
              "      <th>3</th>\n",
              "      <td>Quito</td>\n",
              "      <td>Pichincha</td>\n",
              "      <td>D</td>\n",
              "      <td>8</td>\n",
              "    </tr>\n",
              "    <tr>\n",
              "      <th>4</th>\n",
              "      <td>Quito</td>\n",
              "      <td>Pichincha</td>\n",
              "      <td>D</td>\n",
              "      <td>9</td>\n",
              "    </tr>\n",
              "    <tr>\n",
              "      <th>5</th>\n",
              "      <td>Santo Domingo</td>\n",
              "      <td>Santo Domingo de los Tsachilas</td>\n",
              "      <td>D</td>\n",
              "      <td>4</td>\n",
              "    </tr>\n",
              "  </tbody>\n",
              "</table>\n",
              "</div>\n",
              "      <button class=\"colab-df-convert\" onclick=\"convertToInteractive('df-a7eb6f0e-bad5-4b77-ba5d-e601c21a6c84')\"\n",
              "              title=\"Convert this dataframe to an interactive table.\"\n",
              "              style=\"display:none;\">\n",
              "        \n",
              "  <svg xmlns=\"http://www.w3.org/2000/svg\" height=\"24px\"viewBox=\"0 0 24 24\"\n",
              "       width=\"24px\">\n",
              "    <path d=\"M0 0h24v24H0V0z\" fill=\"none\"/>\n",
              "    <path d=\"M18.56 5.44l.94 2.06.94-2.06 2.06-.94-2.06-.94-.94-2.06-.94 2.06-2.06.94zm-11 1L8.5 8.5l.94-2.06 2.06-.94-2.06-.94L8.5 2.5l-.94 2.06-2.06.94zm10 10l.94 2.06.94-2.06 2.06-.94-2.06-.94-.94-2.06-.94 2.06-2.06.94z\"/><path d=\"M17.41 7.96l-1.37-1.37c-.4-.4-.92-.59-1.43-.59-.52 0-1.04.2-1.43.59L10.3 9.45l-7.72 7.72c-.78.78-.78 2.05 0 2.83L4 21.41c.39.39.9.59 1.41.59.51 0 1.02-.2 1.41-.59l7.78-7.78 2.81-2.81c.8-.78.8-2.07 0-2.86zM5.41 20L4 18.59l7.72-7.72 1.47 1.35L5.41 20z\"/>\n",
              "  </svg>\n",
              "      </button>\n",
              "      \n",
              "  <style>\n",
              "    .colab-df-container {\n",
              "      display:flex;\n",
              "      flex-wrap:wrap;\n",
              "      gap: 12px;\n",
              "    }\n",
              "\n",
              "    .colab-df-convert {\n",
              "      background-color: #E8F0FE;\n",
              "      border: none;\n",
              "      border-radius: 50%;\n",
              "      cursor: pointer;\n",
              "      display: none;\n",
              "      fill: #1967D2;\n",
              "      height: 32px;\n",
              "      padding: 0 0 0 0;\n",
              "      width: 32px;\n",
              "    }\n",
              "\n",
              "    .colab-df-convert:hover {\n",
              "      background-color: #E2EBFA;\n",
              "      box-shadow: 0px 1px 2px rgba(60, 64, 67, 0.3), 0px 1px 3px 1px rgba(60, 64, 67, 0.15);\n",
              "      fill: #174EA6;\n",
              "    }\n",
              "\n",
              "    [theme=dark] .colab-df-convert {\n",
              "      background-color: #3B4455;\n",
              "      fill: #D2E3FC;\n",
              "    }\n",
              "\n",
              "    [theme=dark] .colab-df-convert:hover {\n",
              "      background-color: #434B5C;\n",
              "      box-shadow: 0px 1px 3px 1px rgba(0, 0, 0, 0.15);\n",
              "      filter: drop-shadow(0px 1px 2px rgba(0, 0, 0, 0.3));\n",
              "      fill: #FFFFFF;\n",
              "    }\n",
              "  </style>\n",
              "\n",
              "      <script>\n",
              "        const buttonEl =\n",
              "          document.querySelector('#df-a7eb6f0e-bad5-4b77-ba5d-e601c21a6c84 button.colab-df-convert');\n",
              "        buttonEl.style.display =\n",
              "          google.colab.kernel.accessAllowed ? 'block' : 'none';\n",
              "\n",
              "        async function convertToInteractive(key) {\n",
              "          const element = document.querySelector('#df-a7eb6f0e-bad5-4b77-ba5d-e601c21a6c84');\n",
              "          const dataTable =\n",
              "            await google.colab.kernel.invokeFunction('convertToInteractive',\n",
              "                                                     [key], {});\n",
              "          if (!dataTable) return;\n",
              "\n",
              "          const docLinkHtml = 'Like what you see? Visit the ' +\n",
              "            '<a target=\"_blank\" href=https://colab.research.google.com/notebooks/data_table.ipynb>data table notebook</a>'\n",
              "            + ' to learn more about interactive tables.';\n",
              "          element.innerHTML = '';\n",
              "          dataTable['output_type'] = 'display_data';\n",
              "          await google.colab.output.renderOutput(dataTable, element);\n",
              "          const docLink = document.createElement('div');\n",
              "          docLink.innerHTML = docLinkHtml;\n",
              "          element.appendChild(docLink);\n",
              "        }\n",
              "      </script>\n",
              "    </div>\n",
              "  </div>\n",
              "  "
            ]
          },
          "metadata": {},
          "execution_count": 15
        }
      ]
    },
    {
      "cell_type": "markdown",
      "source": [
        "## 2.2 Tiền xử lý, tính toán các bảng cần thiết"
      ],
      "metadata": {
        "id": "dZGARKyv4efw"
      }
    },
    {
      "cell_type": "markdown",
      "source": [
        "Encode các giá trị categorical"
      ],
      "metadata": {
        "id": "DVIYrKGy1nRe"
      }
    },
    {
      "cell_type": "code",
      "source": [
        "le = LabelEncoder()\n",
        "items['family'] = le.fit_transform(items['family'].values)\n",
        "\n",
        "stores['city'] = le.fit_transform(stores['city'].values)\n",
        "stores['state'] = le.fit_transform(stores['state'].values)\n",
        "stores['type'] = le.fit_transform(stores['type'].values)"
      ],
      "metadata": {
        "id": "EJGa2djC1Kuk"
      },
      "execution_count": 16,
      "outputs": []
    },
    {
      "cell_type": "markdown",
      "source": [
        "Tác giả lại loại bỏ các dữ liệu trước 01-01-2017"
      ],
      "metadata": {
        "id": "mOH_jTun1XkF"
      }
    },
    {
      "cell_type": "code",
      "source": [
        "df_2017 = df_train.loc[df_train.date>=pd.datetime(2017,1,1)]\n",
        "del df_train"
      ],
      "metadata": {
        "colab": {
          "base_uri": "https://localhost:8080/"
        },
        "id": "B7Lb48-y1VE0",
        "outputId": "75bedaa4-187b-42a3-b1ec-e299f155e7cf"
      },
      "execution_count": 17,
      "outputs": [
        {
          "output_type": "stream",
          "name": "stderr",
          "text": [
            "/usr/local/lib/python3.7/dist-packages/ipykernel_launcher.py:1: FutureWarning: The pandas.datetime class is deprecated and will be removed from pandas in a future version. Import from datetime module instead.\n",
            "  \"\"\"Entry point for launching an IPython kernel.\n"
          ]
        }
      ]
    },
    {
      "cell_type": "code",
      "source": [
        "promo_2017_train = df_2017.set_index(\n",
        "    [\"store_nbr\", \"item_nbr\", \"date\"])[[\"onpromotion\"]].unstack(\n",
        "        level=-1).fillna(False)\n",
        "promo_2017_train.columns = promo_2017_train.columns.get_level_values(1)\n",
        "promo_2017_test = df_test[[\"onpromotion\"]].unstack(level=-1).fillna(False)\n",
        "promo_2017_test.columns = promo_2017_test.columns.get_level_values(1)\n",
        "promo_2017_test = promo_2017_test.reindex(promo_2017_train.index).fillna(False)\n",
        "promo_2017 = pd.concat([promo_2017_train, promo_2017_test], axis=1)\n",
        "del promo_2017_test, promo_2017_train"
      ],
      "metadata": {
        "id": "JHXNv0Jv1vPE"
      },
      "execution_count": 18,
      "outputs": []
    },
    {
      "cell_type": "code",
      "source": [
        "df_2017 = df_2017.set_index(\n",
        "    [\"store_nbr\", \"item_nbr\", \"date\"])[[\"unit_sales\"]].unstack(\n",
        "        level=-1).fillna(0)\n",
        "df_2017.columns = df_2017.columns.get_level_values(1)"
      ],
      "metadata": {
        "id": "Yjvhn2Ny13Iq"
      },
      "execution_count": 20,
      "outputs": []
    },
    {
      "cell_type": "code",
      "source": [
        "items = items.reindex(df_2017.index.get_level_values(1))\n",
        "stores = stores.reindex(df_2017.index.get_level_values(0))"
      ],
      "metadata": {
        "id": "k32FL4Hp4Nqd"
      },
      "execution_count": 21,
      "outputs": []
    },
    {
      "cell_type": "code",
      "source": [
        "df_2017_item = df_2017.groupby('item_nbr')[df_2017.columns].sum()\n",
        "promo_2017_item = promo_2017.groupby('item_nbr')[promo_2017.columns].sum()"
      ],
      "metadata": {
        "id": "iHzRkwA24STt"
      },
      "execution_count": 22,
      "outputs": []
    },
    {
      "cell_type": "code",
      "source": [
        "df_2017_store_class = df_2017.reset_index()\n",
        "df_2017_store_class['class'] = items['class'].values\n",
        "df_2017_store_class_index = df_2017_store_class[['class', 'store_nbr']]\n",
        "df_2017_store_class = df_2017_store_class.groupby(['class', 'store_nbr'])[df_2017.columns].sum()"
      ],
      "metadata": {
        "id": "aqa_fEfY4S_6"
      },
      "execution_count": 23,
      "outputs": []
    },
    {
      "cell_type": "code",
      "source": [
        "df_2017_promo_store_class = promo_2017.reset_index()\n",
        "df_2017_promo_store_class['class'] = items['class'].values\n",
        "df_2017_promo_store_class_index = df_2017_promo_store_class[['class', 'store_nbr']]\n",
        "df_2017_promo_store_class = df_2017_promo_store_class.groupby(['class', 'store_nbr'])[promo_2017.columns].sum()"
      ],
      "metadata": {
        "id": "8KnjQQaJ4W5q"
      },
      "execution_count": 24,
      "outputs": []
    },
    {
      "cell_type": "markdown",
      "source": [
        "## Các hàm cần thiết"
      ],
      "metadata": {
        "id": "Igwgxfrd4qOS"
      }
    },
    {
      "cell_type": "code",
      "source": [
        "def get_timespan(df, dt, minus, periods, freq='D'):\n",
        "    return df[pd.date_range(dt - timedelta(days=minus), periods=periods, freq=freq)]\n",
        "\n",
        "def prepare_dataset(df, promo_df, t2017, is_train=True, name_prefix=None):\n",
        "    X = {\n",
        "        \"promo_14_2017\": get_timespan(promo_df, t2017, 14, 14).sum(axis=1).values,\n",
        "        \"promo_60_2017\": get_timespan(promo_df, t2017, 60, 60).sum(axis=1).values,\n",
        "        \"promo_140_2017\": get_timespan(promo_df, t2017, 140, 140).sum(axis=1).values,\n",
        "        \"promo_3_2017_aft\": get_timespan(promo_df, t2017 + timedelta(days=16), 15, 3).sum(axis=1).values,\n",
        "        \"promo_7_2017_aft\": get_timespan(promo_df, t2017 + timedelta(days=16), 15, 7).sum(axis=1).values,\n",
        "        \"promo_14_2017_aft\": get_timespan(promo_df, t2017 + timedelta(days=16), 15, 14).sum(axis=1).values,\n",
        "    }\n",
        "\n",
        "    for i in [3, 7, 14, 30, 60, 140]:\n",
        "        tmp1 = get_timespan(df, t2017, i, i)\n",
        "        tmp2 = (get_timespan(promo_df, t2017, i, i) > 0) * 1\n",
        "\n",
        "        X['has_promo_mean_%s' % i] = (tmp1 * tmp2.replace(0, np.nan)).mean(axis=1).values\n",
        "        X['has_promo_mean_%s_decay' % i] = (tmp1 * tmp2.replace(0, np.nan) * np.power(0.9, np.arange(i)[::-1])).sum(axis=1).values\n",
        "\n",
        "        X['no_promo_mean_%s' % i] = (tmp1 * (1 - tmp2).replace(0, np.nan)).mean(axis=1).values\n",
        "        X['no_promo_mean_%s_decay' % i] = (tmp1 * (1 - tmp2).replace(0, np.nan) * np.power(0.9, np.arange(i)[::-1])).sum(axis=1).values\n",
        "\n",
        "    for i in [3, 7, 14, 30, 60, 140]:\n",
        "        tmp = get_timespan(df, t2017, i, i)\n",
        "        X['diff_%s_mean' % i] = tmp.diff(axis=1).mean(axis=1).values\n",
        "        X['mean_%s_decay' % i] = (tmp * np.power(0.9, np.arange(i)[::-1])).sum(axis=1).values\n",
        "        X['mean_%s' % i] = tmp.mean(axis=1).values\n",
        "        X['median_%s' % i] = tmp.median(axis=1).values\n",
        "        X['min_%s' % i] = tmp.min(axis=1).values\n",
        "        X['max_%s' % i] = tmp.max(axis=1).values\n",
        "        X['std_%s' % i] = tmp.std(axis=1).values\n",
        "\n",
        "    for i in [3, 7, 14, 30, 60, 140]:\n",
        "        tmp = get_timespan(df, t2017 + timedelta(days=-7), i, i)\n",
        "        X['diff_%s_mean_2' % i] = tmp.diff(axis=1).mean(axis=1).values\n",
        "        X['mean_%s_decay_2' % i] = (tmp * np.power(0.9, np.arange(i)[::-1])).sum(axis=1).values\n",
        "        X['mean_%s_2' % i] = tmp.mean(axis=1).values\n",
        "        X['median_%s_2' % i] = tmp.median(axis=1).values\n",
        "        X['min_%s_2' % i] = tmp.min(axis=1).values\n",
        "        X['max_%s_2' % i] = tmp.max(axis=1).values\n",
        "        X['std_%s_2' % i] = tmp.std(axis=1).values\n",
        "\n",
        "    for i in [7, 14, 30, 60, 140]:\n",
        "        tmp = get_timespan(df, t2017, i, i)\n",
        "        X['has_sales_days_in_last_%s' % i] = (tmp > 0).sum(axis=1).values\n",
        "        X['last_has_sales_day_in_last_%s' % i] = i - ((tmp > 0) * np.arange(i)).max(axis=1).values\n",
        "        X['first_has_sales_day_in_last_%s' % i] = ((tmp > 0) * np.arange(i, 0, -1)).max(axis=1).values\n",
        "\n",
        "        tmp = get_timespan(promo_df, t2017, i, i)\n",
        "        X['has_promo_days_in_last_%s' % i] = (tmp > 0).sum(axis=1).values\n",
        "        X['last_has_promo_day_in_last_%s' % i] = i - ((tmp > 0) * np.arange(i)).max(axis=1).values\n",
        "        X['first_has_promo_day_in_last_%s' % i] = ((tmp > 0) * np.arange(i, 0, -1)).max(axis=1).values\n",
        "\n",
        "    tmp = get_timespan(promo_df, t2017 + timedelta(days=16), 15, 15)\n",
        "    X['has_promo_days_in_after_15_days'] = (tmp > 0).sum(axis=1).values\n",
        "    X['last_has_promo_day_in_after_15_days'] = i - ((tmp > 0) * np.arange(15)).max(axis=1).values\n",
        "    X['first_has_promo_day_in_after_15_days'] = ((tmp > 0) * np.arange(15, 0, -1)).max(axis=1).values\n",
        "\n",
        "    for i in range(1, 16):\n",
        "        X['day_%s_2017' % i] = get_timespan(df, t2017, i, 1).values.ravel()\n",
        "\n",
        "    for i in range(7):\n",
        "        X['mean_4_dow{}_2017'.format(i)] = get_timespan(df, t2017, 28-i, 4, freq='7D').mean(axis=1).values\n",
        "        X['mean_20_dow{}_2017'.format(i)] = get_timespan(df, t2017, 140-i, 20, freq='7D').mean(axis=1).values\n",
        "\n",
        "    for i in range(-16, 16):\n",
        "        X[\"promo_{}\".format(i)] = promo_df[t2017 + timedelta(days=i)].values.astype(np.uint8)\n",
        "\n",
        "    X = pd.DataFrame(X)\n",
        "\n",
        "    if is_train:\n",
        "        y = df[\n",
        "            pd.date_range(t2017, periods=16)\n",
        "        ].values\n",
        "        return X, y\n",
        "    if name_prefix is not None:\n",
        "        X.columns = ['%s_%s' % (name_prefix, c) for c in X.columns]\n",
        "    return X"
      ],
      "metadata": {
        "id": "8ZKCPm-34plm"
      },
      "execution_count": 25,
      "outputs": []
    },
    {
      "cell_type": "markdown",
      "source": [
        "## 2.3"
      ],
      "metadata": {
        "id": "7D39T9gk4vBX"
      }
    },
    {
      "cell_type": "code",
      "source": [
        "print(\"Preparing dataset...\")\n",
        "t2017 = date(2017, 6, 14)\n",
        "num_days = 6\n",
        "X_l, y_l = [], []\n",
        "for i in range(num_days):\n",
        "    delta = timedelta(days=7 * i)\n",
        "    X_tmp, y_tmp = prepare_dataset(df_2017, promo_2017, t2017 + delta)\n",
        "\n",
        "    X_tmp2 = prepare_dataset(df_2017_item, promo_2017_item, t2017 + delta, is_train=False, name_prefix='item')\n",
        "    X_tmp2.index = df_2017_item.index\n",
        "    X_tmp2 = X_tmp2.reindex(df_2017.index.get_level_values(1)).reset_index(drop=True)\n",
        "\n",
        "    X_tmp3 = prepare_dataset(df_2017_store_class, df_2017_promo_store_class, t2017 + delta, is_train=False, name_prefix='store_class')\n",
        "    X_tmp3.index = df_2017_store_class.index\n",
        "    X_tmp3 = X_tmp3.reindex(df_2017_store_class_index).reset_index(drop=True)\n",
        "\n",
        "    X_tmp = pd.concat([X_tmp, X_tmp2, X_tmp3, items.reset_index(), stores.reset_index()], axis=1)\n",
        "    X_l.append(X_tmp)\n",
        "    y_l.append(y_tmp)\n",
        "\n",
        "    del X_tmp2\n",
        "    gc.collect()\n",
        "\n",
        "X_train = pd.concat(X_l, axis=0)\n",
        "y_train = np.concatenate(y_l, axis=0)\n",
        "\n",
        "del X_l, y_l\n",
        "X_val, y_val = prepare_dataset(df_2017, promo_2017, date(2017, 7, 26))\n",
        "\n",
        "X_val2 = prepare_dataset(df_2017_item, promo_2017_item, date(2017, 7, 26), is_train=False, name_prefix='item')\n",
        "X_val2.index = df_2017_item.index\n",
        "X_val2 = X_val2.reindex(df_2017.index.get_level_values(1)).reset_index(drop=True)\n",
        "\n",
        "X_val3 = prepare_dataset(df_2017_store_class, df_2017_promo_store_class, date(2017, 7, 26), is_train=False, name_prefix='store_class')\n",
        "X_val3.index = df_2017_store_class.index\n",
        "X_val3 = X_val3.reindex(df_2017_store_class_index).reset_index(drop=True)\n",
        "\n",
        "X_val = pd.concat([X_val, X_val2, X_val3, items.reset_index(), stores.reset_index()], axis=1)\n",
        "\n",
        "X_test = prepare_dataset(df_2017, promo_2017, date(2017, 8, 16), is_train=False)\n",
        "\n",
        "X_test2 = prepare_dataset(df_2017_item, promo_2017_item, date(2017, 8, 16), is_train=False, name_prefix='item')\n",
        "X_test2.index = df_2017_item.index\n",
        "X_test2 = X_test2.reindex(df_2017.index.get_level_values(1)).reset_index(drop=True)\n",
        "\n",
        "X_test3 = prepare_dataset(df_2017_store_class, df_2017_promo_store_class, date(2017, 8, 16), is_train=False, name_prefix='store_class')\n",
        "X_test3.index = df_2017_store_class.index\n",
        "X_test3 = X_test3.reindex(df_2017_store_class_index).reset_index(drop=True)\n",
        "\n",
        "X_test = pd.concat([X_test, X_test2, X_test3, items.reset_index(), stores.reset_index()], axis=1)\n",
        "\n",
        "del X_test2, X_val2, df_2017_item, promo_2017_item, df_2017_store_class, df_2017_promo_store_class, df_2017_store_class_index\n",
        "gc.collect()\n",
        "\n",
        "print(\"Training and predicting models...\")\n",
        "params = {\n",
        "    'num_leaves': 80,\n",
        "    'objective': 'regression',\n",
        "    'min_data_in_leaf': 200,\n",
        "    'learning_rate': 0.02,\n",
        "    'feature_fraction': 0.8,\n",
        "    'bagging_fraction': 0.7,\n",
        "    'bagging_freq': 1,\n",
        "    'metric': 'l2',\n",
        "    'num_threads': 16\n",
        "}\n",
        "\n",
        "MAX_ROUNDS = 5000\n",
        "val_pred = []\n",
        "test_pred = []\n",
        "cate_vars = []\n",
        "for i in range(16):\n",
        "    print(\"=\" * 50)\n",
        "    print(\"Step %d\" % (i+1))\n",
        "    print(\"=\" * 50)\n",
        "    dtrain = lgb.Dataset(\n",
        "        X_train, label=y_train[:, i],\n",
        "        categorical_feature=cate_vars,\n",
        "        weight=pd.concat([items[\"perishable\"]] * num_days) * 0.25 + 1\n",
        "    )\n",
        "    dval = lgb.Dataset(\n",
        "        X_val, label=y_val[:, i], reference=dtrain,\n",
        "        weight=items[\"perishable\"] * 0.25 + 1,\n",
        "        categorical_feature=cate_vars)\n",
        "    bst = lgb.train(\n",
        "        params, dtrain, num_boost_round=MAX_ROUNDS,\n",
        "        valid_sets=[dtrain, dval], early_stopping_rounds=125, verbose_eval=50\n",
        "    )\n",
        "    print(\"\\n\".join((\"%s: %.2f\" % x) for x in sorted(\n",
        "        zip(X_train.columns, bst.feature_importance(\"gain\")),\n",
        "        key=lambda x: x[1], reverse=True\n",
        "    )))\n",
        "    val_pred.append(bst.predict(\n",
        "        X_val, num_iteration=bst.best_iteration or MAX_ROUNDS))\n",
        "    test_pred.append(bst.predict(\n",
        "        X_test, num_iteration=bst.best_iteration or MAX_ROUNDS))\n",
        "\n",
        "print(\"Validation mse:\", mean_squared_error(\n",
        "    y_val, np.array(val_pred).transpose()))\n",
        "\n",
        "weight = items[\"perishable\"] * 0.25 + 1\n",
        "err = (y_val - np.array(val_pred).transpose())**2\n",
        "err = err.sum(axis=1) * weight\n",
        "err = np.sqrt(err.sum() / weight.sum() / 16)\n",
        "print('nwrmsle = {}'.format(err))\n",
        "\n",
        "y_val = np.array(val_pred).transpose()\n",
        "df_preds = pd.DataFrame(\n",
        "    y_val, index=df_2017.index,\n",
        "    columns=pd.date_range(\"2017-07-26\", periods=16)\n",
        ").stack().to_frame(\"unit_sales\")\n",
        "df_preds.index.set_names([\"store_nbr\", \"item_nbr\", \"date\"], inplace=True)\n",
        "df_preds[\"unit_sales\"] = np.clip(np.expm1(df_preds[\"unit_sales\"]), 0, 1000)\n",
        "df_preds.reset_index().to_csv('lgb_cv.csv', index=False)\n",
        "\n",
        "print(\"Making submission...\")\n",
        "y_test = np.array(test_pred).transpose()\n",
        "df_preds = pd.DataFrame(\n",
        "    y_test, index=df_2017.index,\n",
        "    columns=pd.date_range(\"2017-08-16\", periods=16)\n",
        ").stack().to_frame(\"unit_sales\")\n",
        "df_preds.index.set_names([\"store_nbr\", \"item_nbr\", \"date\"], inplace=True)\n",
        "\n",
        "submission = df_test[[\"id\"]].join(df_preds, how=\"left\").fillna(0)\n",
        "submission[\"unit_sales\"] = np.clip(np.expm1(submission[\"unit_sales\"]), 0, 1000)\n",
        "submission.to_csv('lgb_sub.csv', float_format='%.4f', index=None)"
      ],
      "metadata": {
        "colab": {
          "base_uri": "https://localhost:8080/",
          "height": 398
        },
        "id": "KlpH45RT4ysm",
        "outputId": "ce491f77-7f11-4b6b-f381-928a8587238e"
      },
      "execution_count": 26,
      "outputs": [
        {
          "output_type": "stream",
          "name": "stdout",
          "text": [
            "Preparing dataset...\n"
          ]
        },
        {
          "output_type": "error",
          "ename": "KeyError",
          "evalue": "ignored",
          "traceback": [
            "\u001b[0;31m---------------------------------------------------------------------------\u001b[0m",
            "\u001b[0;31mKeyError\u001b[0m                                  Traceback (most recent call last)",
            "\u001b[0;32m<ipython-input-26-4238afb0ae37>\u001b[0m in \u001b[0;36m<module>\u001b[0;34m()\u001b[0m\n\u001b[1;32m      5\u001b[0m \u001b[0;32mfor\u001b[0m \u001b[0mi\u001b[0m \u001b[0;32min\u001b[0m \u001b[0mrange\u001b[0m\u001b[0;34m(\u001b[0m\u001b[0mnum_days\u001b[0m\u001b[0;34m)\u001b[0m\u001b[0;34m:\u001b[0m\u001b[0;34m\u001b[0m\u001b[0;34m\u001b[0m\u001b[0m\n\u001b[1;32m      6\u001b[0m     \u001b[0mdelta\u001b[0m \u001b[0;34m=\u001b[0m \u001b[0mtimedelta\u001b[0m\u001b[0;34m(\u001b[0m\u001b[0mdays\u001b[0m\u001b[0;34m=\u001b[0m\u001b[0;36m7\u001b[0m \u001b[0;34m*\u001b[0m \u001b[0mi\u001b[0m\u001b[0;34m)\u001b[0m\u001b[0;34m\u001b[0m\u001b[0;34m\u001b[0m\u001b[0m\n\u001b[0;32m----> 7\u001b[0;31m     \u001b[0mX_tmp\u001b[0m\u001b[0;34m,\u001b[0m \u001b[0my_tmp\u001b[0m \u001b[0;34m=\u001b[0m \u001b[0mprepare_dataset\u001b[0m\u001b[0;34m(\u001b[0m\u001b[0mdf_2017\u001b[0m\u001b[0;34m,\u001b[0m \u001b[0mpromo_2017\u001b[0m\u001b[0;34m,\u001b[0m \u001b[0mt2017\u001b[0m \u001b[0;34m+\u001b[0m \u001b[0mdelta\u001b[0m\u001b[0;34m)\u001b[0m\u001b[0;34m\u001b[0m\u001b[0;34m\u001b[0m\u001b[0m\n\u001b[0m\u001b[1;32m      8\u001b[0m \u001b[0;34m\u001b[0m\u001b[0m\n\u001b[1;32m      9\u001b[0m     \u001b[0mX_tmp2\u001b[0m \u001b[0;34m=\u001b[0m \u001b[0mprepare_dataset\u001b[0m\u001b[0;34m(\u001b[0m\u001b[0mdf_2017_item\u001b[0m\u001b[0;34m,\u001b[0m \u001b[0mpromo_2017_item\u001b[0m\u001b[0;34m,\u001b[0m \u001b[0mt2017\u001b[0m \u001b[0;34m+\u001b[0m \u001b[0mdelta\u001b[0m\u001b[0;34m,\u001b[0m \u001b[0mis_train\u001b[0m\u001b[0;34m=\u001b[0m\u001b[0;32mFalse\u001b[0m\u001b[0;34m,\u001b[0m \u001b[0mname_prefix\u001b[0m\u001b[0;34m=\u001b[0m\u001b[0;34m'item'\u001b[0m\u001b[0;34m)\u001b[0m\u001b[0;34m\u001b[0m\u001b[0;34m\u001b[0m\u001b[0m\n",
            "\u001b[0;32m<ipython-input-25-6228b455ba5e>\u001b[0m in \u001b[0;36mprepare_dataset\u001b[0;34m(df, promo_df, t2017, is_train, name_prefix)\u001b[0m\n\u001b[1;32m     66\u001b[0m \u001b[0;34m\u001b[0m\u001b[0m\n\u001b[1;32m     67\u001b[0m     \u001b[0;32mfor\u001b[0m \u001b[0mi\u001b[0m \u001b[0;32min\u001b[0m \u001b[0mrange\u001b[0m\u001b[0;34m(\u001b[0m\u001b[0;34m-\u001b[0m\u001b[0;36m16\u001b[0m\u001b[0;34m,\u001b[0m \u001b[0;36m16\u001b[0m\u001b[0;34m)\u001b[0m\u001b[0;34m:\u001b[0m\u001b[0;34m\u001b[0m\u001b[0;34m\u001b[0m\u001b[0m\n\u001b[0;32m---> 68\u001b[0;31m         \u001b[0mX\u001b[0m\u001b[0;34m[\u001b[0m\u001b[0;34m\"promo_{}\"\u001b[0m\u001b[0;34m.\u001b[0m\u001b[0mformat\u001b[0m\u001b[0;34m(\u001b[0m\u001b[0mi\u001b[0m\u001b[0;34m)\u001b[0m\u001b[0;34m]\u001b[0m \u001b[0;34m=\u001b[0m \u001b[0mpromo_df\u001b[0m\u001b[0;34m[\u001b[0m\u001b[0mt2017\u001b[0m \u001b[0;34m+\u001b[0m \u001b[0mtimedelta\u001b[0m\u001b[0;34m(\u001b[0m\u001b[0mdays\u001b[0m\u001b[0;34m=\u001b[0m\u001b[0mi\u001b[0m\u001b[0;34m)\u001b[0m\u001b[0;34m]\u001b[0m\u001b[0;34m.\u001b[0m\u001b[0mvalues\u001b[0m\u001b[0;34m.\u001b[0m\u001b[0mastype\u001b[0m\u001b[0;34m(\u001b[0m\u001b[0mnp\u001b[0m\u001b[0;34m.\u001b[0m\u001b[0muint8\u001b[0m\u001b[0;34m)\u001b[0m\u001b[0;34m\u001b[0m\u001b[0;34m\u001b[0m\u001b[0m\n\u001b[0m\u001b[1;32m     69\u001b[0m \u001b[0;34m\u001b[0m\u001b[0m\n\u001b[1;32m     70\u001b[0m     \u001b[0mX\u001b[0m \u001b[0;34m=\u001b[0m \u001b[0mpd\u001b[0m\u001b[0;34m.\u001b[0m\u001b[0mDataFrame\u001b[0m\u001b[0;34m(\u001b[0m\u001b[0mX\u001b[0m\u001b[0;34m)\u001b[0m\u001b[0;34m\u001b[0m\u001b[0;34m\u001b[0m\u001b[0m\n",
            "\u001b[0;32m/usr/local/lib/python3.7/dist-packages/pandas/core/frame.py\u001b[0m in \u001b[0;36m__getitem__\u001b[0;34m(self, key)\u001b[0m\n\u001b[1;32m   3456\u001b[0m             \u001b[0;32mif\u001b[0m \u001b[0mself\u001b[0m\u001b[0;34m.\u001b[0m\u001b[0mcolumns\u001b[0m\u001b[0;34m.\u001b[0m\u001b[0mnlevels\u001b[0m \u001b[0;34m>\u001b[0m \u001b[0;36m1\u001b[0m\u001b[0;34m:\u001b[0m\u001b[0;34m\u001b[0m\u001b[0;34m\u001b[0m\u001b[0m\n\u001b[1;32m   3457\u001b[0m                 \u001b[0;32mreturn\u001b[0m \u001b[0mself\u001b[0m\u001b[0;34m.\u001b[0m\u001b[0m_getitem_multilevel\u001b[0m\u001b[0;34m(\u001b[0m\u001b[0mkey\u001b[0m\u001b[0;34m)\u001b[0m\u001b[0;34m\u001b[0m\u001b[0;34m\u001b[0m\u001b[0m\n\u001b[0;32m-> 3458\u001b[0;31m             \u001b[0mindexer\u001b[0m \u001b[0;34m=\u001b[0m \u001b[0mself\u001b[0m\u001b[0;34m.\u001b[0m\u001b[0mcolumns\u001b[0m\u001b[0;34m.\u001b[0m\u001b[0mget_loc\u001b[0m\u001b[0;34m(\u001b[0m\u001b[0mkey\u001b[0m\u001b[0;34m)\u001b[0m\u001b[0;34m\u001b[0m\u001b[0;34m\u001b[0m\u001b[0m\n\u001b[0m\u001b[1;32m   3459\u001b[0m             \u001b[0;32mif\u001b[0m \u001b[0mis_integer\u001b[0m\u001b[0;34m(\u001b[0m\u001b[0mindexer\u001b[0m\u001b[0;34m)\u001b[0m\u001b[0;34m:\u001b[0m\u001b[0;34m\u001b[0m\u001b[0;34m\u001b[0m\u001b[0m\n\u001b[1;32m   3460\u001b[0m                 \u001b[0mindexer\u001b[0m \u001b[0;34m=\u001b[0m \u001b[0;34m[\u001b[0m\u001b[0mindexer\u001b[0m\u001b[0;34m]\u001b[0m\u001b[0;34m\u001b[0m\u001b[0;34m\u001b[0m\u001b[0m\n",
            "\u001b[0;32m/usr/local/lib/python3.7/dist-packages/pandas/core/indexes/datetimes.py\u001b[0m in \u001b[0;36mget_loc\u001b[0;34m(self, key, method, tolerance)\u001b[0m\n\u001b[1;32m    698\u001b[0m         \u001b[0;32melse\u001b[0m\u001b[0;34m:\u001b[0m\u001b[0;34m\u001b[0m\u001b[0;34m\u001b[0m\u001b[0m\n\u001b[1;32m    699\u001b[0m             \u001b[0;31m# unrecognized type\u001b[0m\u001b[0;34m\u001b[0m\u001b[0;34m\u001b[0m\u001b[0;34m\u001b[0m\u001b[0m\n\u001b[0;32m--> 700\u001b[0;31m             \u001b[0;32mraise\u001b[0m \u001b[0mKeyError\u001b[0m\u001b[0;34m(\u001b[0m\u001b[0mkey\u001b[0m\u001b[0;34m)\u001b[0m\u001b[0;34m\u001b[0m\u001b[0;34m\u001b[0m\u001b[0m\n\u001b[0m\u001b[1;32m    701\u001b[0m \u001b[0;34m\u001b[0m\u001b[0m\n\u001b[1;32m    702\u001b[0m         \u001b[0;32mtry\u001b[0m\u001b[0;34m:\u001b[0m\u001b[0;34m\u001b[0m\u001b[0;34m\u001b[0m\u001b[0m\n",
            "\u001b[0;31mKeyError\u001b[0m: datetime.date(2017, 5, 29)"
          ]
        }
      ]
    },
    {
      "cell_type": "markdown",
      "source": [
        "# 3. NHÌN LẠI QUÁ TRÌNH LÀM ĐỒ ÁN"
      ],
      "metadata": {
        "id": "WReaJRIHiOJM"
      }
    },
    {
      "cell_type": "markdown",
      "source": [
        "# 4. TÀI LIỆU THAM KHẢO"
      ],
      "metadata": {
        "id": "SO7_TwWBiOFx"
      }
    },
    {
      "cell_type": "markdown",
      "source": [
        "EDA : [Shopping for Insights - Favorita EDA](https://www.kaggle.com/code/headsortails/shopping-for-insights-favorita-eda)\n",
        "\n",
        "Solution: [1st Place LGB Model(public:0.506, private:0.511)](https://www.kaggle.com/code/shixw125/1st-place-lgb-model-public-0-506-private-0-511/script)"
      ],
      "metadata": {
        "id": "894ZrLQjurD9"
      }
    },
    {
      "cell_type": "code",
      "source": [
        ""
      ],
      "metadata": {
        "id": "9AsUoUDZiGuu"
      },
      "execution_count": null,
      "outputs": []
    }
  ]
}